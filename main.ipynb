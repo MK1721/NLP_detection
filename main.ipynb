{
  "nbformat": 4,
  "nbformat_minor": 0,
  "metadata": {
    "colab": {
      "provenance": []
    },
    "kernelspec": {
      "name": "python3",
      "display_name": "Python 3"
    },
    "language_info": {
      "name": "python"
    }
  },
  "cells": [
    {
      "cell_type": "markdown",
      "source": [
        "Ну что же, приступим. Подключаем все необходимые библиотеки."
      ],
      "metadata": {
        "id": "QZ2L7yanUSZw"
      }
    },
    {
      "cell_type": "code",
      "execution_count": null,
      "metadata": {
        "id": "e0rkkHF0UH0R"
      },
      "outputs": [],
      "source": [
        "import pandas as pd\n",
        "import nltk\n",
        "import re\n",
        "from nltk.corpus import stopwords\n",
        "from nltk.tokenize import casual_tokenize\n",
        "from sklearn.feature_extraction.text import TfidfVectorizer, CountVectorizer\n",
        "from sklearn.linear_model import LogisticRegression\n",
        "from pymystem3 import Mystem"
      ]
    },
    {
      "cell_type": "markdown",
      "source": [
        "Загружаем стоп-слова для русского языка. Для лемматизации я использовал pymystem3, и хочу сказать, что этот лемматизатор мне очень понравился - он довольно четко и правильно приводил слово к начальной форме. С Наташей у меня возникли проблемы, а pymorphy2, насколько я понял, уже не поддерживается, и с ним само собой возникли проблемы."
      ],
      "metadata": {
        "id": "CQ9mbd3To5m8"
      }
    },
    {
      "cell_type": "code",
      "source": [
        "nltk.download('stopwords')\n",
        "stopwords_r = set(stopwords.words(\"russian\"))\n",
        "\n",
        "mystem = Mystem()"
      ],
      "metadata": {
        "colab": {
          "base_uri": "https://localhost:8080/"
        },
        "id": "_EAGP-4m1jIl",
        "outputId": "c5f97a96-4055-4908-b807-74035478bc14"
      },
      "execution_count": null,
      "outputs": [
        {
          "output_type": "stream",
          "name": "stderr",
          "text": [
            "[nltk_data] Downloading package stopwords to /root/nltk_data...\n",
            "[nltk_data]   Unzipping corpora/stopwords.zip.\n",
            "Installing mystem to /root/.local/bin/mystem from http://download.cdn.yandex.net/mystem/mystem-3.1-linux-64bit.tar.gz\n"
          ]
        }
      ]
    },
    {
      "cell_type": "markdown",
      "source": [
        "Это, собственно, моя функция лемматизации."
      ],
      "metadata": {
        "id": "mXlrfgpqqDh2"
      }
    },
    {
      "cell_type": "code",
      "source": [
        "def lemmatize_russian(text):\n",
        "  lemmatized_text = mystem.lemmatize(text)\n",
        "  return ''.join([token.strip() for token in lemmatized_text])"
      ],
      "metadata": {
        "id": "9ZdP3JF60WPd"
      },
      "execution_count": null,
      "outputs": []
    },
    {
      "cell_type": "markdown",
      "source": [
        "Дальше идёт моя функция для предобработки данных. Как и объясняли на лекции, я привожу всё к одному регистру, решаю оставить только цифры и буквы русского и английского алфавита, поскольку в других символах ценной информации я не заметил, хотя, возможно, она и была. Другие языки я тоже не нашёл) На токены разбиваю с помощью функции casual_tokenize, мне понравилось, как она это делает. Забегая вперёд скажу, что я пробовал различать русский и английский языки и для первого применять лемматизацию, а для второго - стемминг. Но скор увелчился, когда ко всему применял только лемматизацию. Как-то так."
      ],
      "metadata": {
        "id": "lsen_WEcqHC5"
      }
    },
    {
      "cell_type": "code",
      "source": [
        "def preprocess_text(text):\n",
        "    text = str(text).lower()\n",
        "    text = re.sub(r'[^а-яa-z0-9 ]', ' ', text)\n",
        "    tokens = casual_tokenize(text)\n",
        "    tokens = [token for token in tokens if len(token) > 1 and token not in stopwords_r]\n",
        "\n",
        "    processed_tokens = []\n",
        "    for token in tokens:\n",
        "      processed_tokens.append(lemmatize_russian(token))\n",
        "\n",
        "    return ' '.join(processed_tokens)"
      ],
      "metadata": {
        "id": "30SNCbOg-S4-"
      },
      "execution_count": null,
      "outputs": []
    },
    {
      "cell_type": "markdown",
      "source": [
        "Дальше я загружаю оба датасета. Одно значение в тренировочных данных было пропущено, решил заменить просто пустой строкой. Также, я решил объединить в одну фичу url и title. Ещё добавил 2 новые фичи, как длина url и длина title."
      ],
      "metadata": {
        "id": "nSANlTFSrUaN"
      }
    },
    {
      "cell_type": "code",
      "source": [
        "train = pd.read_csv('train.csv')\n",
        "test = pd.read_csv('test.csv')\n",
        "\n",
        "train['url'] = train['url'].fillna('')\n",
        "train['title'] = train['title'].fillna('')\n",
        "\n",
        "train['url_length'] = train['url'].apply(len)\n",
        "train['title_length'] = train['title'].apply(len)\n",
        "\n",
        "test['url'] = test['url'].fillna('')\n",
        "test['title'] = test['title'].fillna('')\n",
        "\n",
        "test['url_length'] = test['url'].apply(len)\n",
        "test['title_length'] = test['title'].apply(len)\n",
        "\n",
        "train['text'] = train['url'] + ' ' + train['title']\n",
        "test['text'] = test['url'] + ' ' + test['title']\n",
        "\n",
        "\n",
        "# Препроцессинг в деле\n",
        "train['text_clean'] = train['text'].apply(preprocess_text)\n",
        "test['text_clean'] = test['text'].apply(preprocess_text)"
      ],
      "metadata": {
        "id": "AUuH_FMbYmm7"
      },
      "execution_count": null,
      "outputs": []
    },
    {
      "cell_type": "markdown",
      "source": [
        "Решил вывести и посмотреть, как там дело обстоит с меткой 1)) К такому я был готов."
      ],
      "metadata": {
        "id": "449B1rjNt01b"
      }
    },
    {
      "cell_type": "code",
      "source": [
        "train_with_label_1 = train[train['label'] == 1]\n",
        "print(train_with_label_1[['text_clean', 'label']].tail(50))"
      ],
      "metadata": {
        "colab": {
          "base_uri": "https://localhost:8080/"
        },
        "id": "tLMUSnnlDVL8",
        "outputId": "645d755b-88a8-4996-b680-edb6ce06a091",
        "collapsed": true
      },
      "execution_count": null,
      "outputs": [
        {
          "output_type": "stream",
          "name": "stdout",
          "text": [
            "                                               text_clean  label\n",
            "134916  fuckup xxx pornstars fucking dorm guys watch h...      1\n",
            "134927  xuk life эротика голый susie фото 14 xuk ru уб...      1\n",
            "134935  pornboxo com hotkinkyjo horse dildo free mastu...      1\n",
            "134943  seksart com секскомикс дождаться свадьба порно...      1\n",
            "134946  russkoe 365 xxx молодой телка трудный дело люб...      1\n",
            "134949  www pornolenta co порно няня онлайн бесплатно ...      1\n",
            "134950  www nimila net sunny leone in red lace lingeri...      1\n",
            "134957  okporno tv нора дэвис красивый брюнетка нижний...      1\n",
            "134971  ruero net скачать порно видео очаровательный к...      1\n",
            "134974  pornpixfree com wet pussy porn pics for mobile...      1\n",
            "134977                pornovidonline com анал порно видео      1\n",
            "134980  th vlip lv bigo live beautiful supper thai gir...      1\n",
            "134985  newyoungfogies com xnxx videos pornф xnxx de q...      1\n",
            "135003  biqle ru ideal body girl gracie lewis high end...      1\n",
            "135021     erkiss live девушка кончать сперма порно видео      1\n",
            "135025       freepornstream cc anita pearl freepornstream      1\n",
            "135028  sexuzb com озабоченный узбечка трахнуть свой л...      1\n",
            "135029  javinform com kht 026 26 21 anti human moleste...      1\n",
            "135032  pornreactor cc joyreactor голый девка член гол...      1\n",
            "135034      www pornktube porn search videos for bus fuck      1\n",
            "135043  eggporncomics com obsession beach page eggporn...      1\n",
            "135052                         biqle ru tawny biqle видео      1\n",
            "135096  www pussyspace com pregnant teen anal most rel...      1\n",
            "135102            ffclar com videos tagged with big booty      1\n",
            "135107  4555000 com pregnant free porn photography www...      1\n",
            "135112  leawellstudio com tyrande whisperwind porn lea...      1\n",
            "135113  24eropixel net сучка делать минуть туалет ночн...      1\n",
            "135114  vip xxx site vip xxx rebecca moore onlyfans si...      1\n",
            "135115      xxnx sex fuck me and cum in my mouth xnxx sex      1\n",
            "135123  www pornoxyu name засаживать медсестра жопа пр...      1\n",
            "135124  www perfectgirls es porno gratis sexo gratis p...      1\n",
            "135125     www redwap me nitr 367 hd xxx videos redwap me      1\n",
            "135126  upolos com ikumi 0113 photos videos on instagr...      1\n",
            "135135  tabber pro balloon guy wife swap 11 40 mobile ...      1\n",
            "135151  ru xvideos tv время страстный секс стол девушк...      1\n",
            "135168  kachat video ru порно мамка мамаша секс мама с...      1\n",
            "135169    rukoeb com поиск порно видео запрос изменай муж      1\n",
            "135174  daftsex com skyla novea hd 720 all sex latina ...      1\n",
            "135179  babaeb com порно видео мужик побрить член долб...      1\n",
            "135180  eroboom biz название мой сексуальный котенок н...      1\n",
            "135184  mail ru фото группа 2100 фото сообщество сумас...      1\n",
            "135186  konchator com брюнетка садиться киска лицо пар...      1\n",
            "135195  pornosveta tv мужик расковывать сексуальный ра...      1\n",
            "135208  biqle com lucie jones shows her big tits panty...      1\n",
            "135214  ruporno seks com привлекательный худышка залез...      1\n",
            "135221  nola london com pinoy the biggest collection o...      1\n",
            "135239  pornotwix com two titted blondes enjoy big coc...      1\n",
            "135253  sexlib org рассказ первый знакомство секс эрот...      1\n",
            "135256  pakistanporn info food wild indian tube on pak...      1\n",
            "135287  sexlib org гарри поттер секс волшебный мир час...      1\n"
          ]
        }
      ]
    },
    {
      "cell_type": "markdown",
      "source": [
        "И, пожалуй, самое интересное. В самой первой реализации я использовал TF-IDF и получил высокий скор. У меня даже не было мысли переходить на \"мешок слов\". Но с первым скор как-то очень медленно рос, чтобы я ни делал, поэтому решли попробовать что-то новое, и этим стал CountVectorizer. И, как не сложно догадаться, скор вырос))) Интересно, почему именно так."
      ],
      "metadata": {
        "id": "R7VgW0_yuN2s"
      }
    },
    {
      "cell_type": "code",
      "source": [
        "vectorizer = CountVectorizer(ngram_range=(1,5), max_features=10000)\n",
        "X_train = vectorizer.fit_transform(train['text_clean'])\n",
        "X_test = vectorizer.transform(test['text_clean'])\n",
        "\n",
        "# Объединяем все признаки\n",
        "from scipy.sparse import hstack\n",
        "X_train_final = hstack([X_train, train[['url_length', 'title_length']].values])\n",
        "X_test_final = hstack([X_test, test[['url_length', 'title_length']].values])"
      ],
      "metadata": {
        "id": "eU8c339X5DWY"
      },
      "execution_count": null,
      "outputs": []
    },
    {
      "cell_type": "markdown",
      "source": [
        "Здесь ничего интересного - обычная логистическая регрессия. Другие алгоритмы обучения я даже не рассматривал, потому что хотел получить высокий скор, используя только её."
      ],
      "metadata": {
        "id": "uPM_l_wUvZeY"
      }
    },
    {
      "cell_type": "code",
      "source": [
        "model = LogisticRegression(max_iter=10000)\n",
        "model.fit(X_train_final, train['label'])"
      ],
      "metadata": {
        "colab": {
          "base_uri": "https://localhost:8080/",
          "height": 80
        },
        "id": "du4v_CNW_s8s",
        "outputId": "2c660db5-4438-439b-8ef6-e48b08c6eaf5"
      },
      "execution_count": null,
      "outputs": [
        {
          "output_type": "execute_result",
          "data": {
            "text/plain": [
              "LogisticRegression(max_iter=10000)"
            ],
            "text/html": [
              "<style>#sk-container-id-7 {\n",
              "  /* Definition of color scheme common for light and dark mode */\n",
              "  --sklearn-color-text: #000;\n",
              "  --sklearn-color-text-muted: #666;\n",
              "  --sklearn-color-line: gray;\n",
              "  /* Definition of color scheme for unfitted estimators */\n",
              "  --sklearn-color-unfitted-level-0: #fff5e6;\n",
              "  --sklearn-color-unfitted-level-1: #f6e4d2;\n",
              "  --sklearn-color-unfitted-level-2: #ffe0b3;\n",
              "  --sklearn-color-unfitted-level-3: chocolate;\n",
              "  /* Definition of color scheme for fitted estimators */\n",
              "  --sklearn-color-fitted-level-0: #f0f8ff;\n",
              "  --sklearn-color-fitted-level-1: #d4ebff;\n",
              "  --sklearn-color-fitted-level-2: #b3dbfd;\n",
              "  --sklearn-color-fitted-level-3: cornflowerblue;\n",
              "\n",
              "  /* Specific color for light theme */\n",
              "  --sklearn-color-text-on-default-background: var(--sg-text-color, var(--theme-code-foreground, var(--jp-content-font-color1, black)));\n",
              "  --sklearn-color-background: var(--sg-background-color, var(--theme-background, var(--jp-layout-color0, white)));\n",
              "  --sklearn-color-border-box: var(--sg-text-color, var(--theme-code-foreground, var(--jp-content-font-color1, black)));\n",
              "  --sklearn-color-icon: #696969;\n",
              "\n",
              "  @media (prefers-color-scheme: dark) {\n",
              "    /* Redefinition of color scheme for dark theme */\n",
              "    --sklearn-color-text-on-default-background: var(--sg-text-color, var(--theme-code-foreground, var(--jp-content-font-color1, white)));\n",
              "    --sklearn-color-background: var(--sg-background-color, var(--theme-background, var(--jp-layout-color0, #111)));\n",
              "    --sklearn-color-border-box: var(--sg-text-color, var(--theme-code-foreground, var(--jp-content-font-color1, white)));\n",
              "    --sklearn-color-icon: #878787;\n",
              "  }\n",
              "}\n",
              "\n",
              "#sk-container-id-7 {\n",
              "  color: var(--sklearn-color-text);\n",
              "}\n",
              "\n",
              "#sk-container-id-7 pre {\n",
              "  padding: 0;\n",
              "}\n",
              "\n",
              "#sk-container-id-7 input.sk-hidden--visually {\n",
              "  border: 0;\n",
              "  clip: rect(1px 1px 1px 1px);\n",
              "  clip: rect(1px, 1px, 1px, 1px);\n",
              "  height: 1px;\n",
              "  margin: -1px;\n",
              "  overflow: hidden;\n",
              "  padding: 0;\n",
              "  position: absolute;\n",
              "  width: 1px;\n",
              "}\n",
              "\n",
              "#sk-container-id-7 div.sk-dashed-wrapped {\n",
              "  border: 1px dashed var(--sklearn-color-line);\n",
              "  margin: 0 0.4em 0.5em 0.4em;\n",
              "  box-sizing: border-box;\n",
              "  padding-bottom: 0.4em;\n",
              "  background-color: var(--sklearn-color-background);\n",
              "}\n",
              "\n",
              "#sk-container-id-7 div.sk-container {\n",
              "  /* jupyter's `normalize.less` sets `[hidden] { display: none; }`\n",
              "     but bootstrap.min.css set `[hidden] { display: none !important; }`\n",
              "     so we also need the `!important` here to be able to override the\n",
              "     default hidden behavior on the sphinx rendered scikit-learn.org.\n",
              "     See: https://github.com/scikit-learn/scikit-learn/issues/21755 */\n",
              "  display: inline-block !important;\n",
              "  position: relative;\n",
              "}\n",
              "\n",
              "#sk-container-id-7 div.sk-text-repr-fallback {\n",
              "  display: none;\n",
              "}\n",
              "\n",
              "div.sk-parallel-item,\n",
              "div.sk-serial,\n",
              "div.sk-item {\n",
              "  /* draw centered vertical line to link estimators */\n",
              "  background-image: linear-gradient(var(--sklearn-color-text-on-default-background), var(--sklearn-color-text-on-default-background));\n",
              "  background-size: 2px 100%;\n",
              "  background-repeat: no-repeat;\n",
              "  background-position: center center;\n",
              "}\n",
              "\n",
              "/* Parallel-specific style estimator block */\n",
              "\n",
              "#sk-container-id-7 div.sk-parallel-item::after {\n",
              "  content: \"\";\n",
              "  width: 100%;\n",
              "  border-bottom: 2px solid var(--sklearn-color-text-on-default-background);\n",
              "  flex-grow: 1;\n",
              "}\n",
              "\n",
              "#sk-container-id-7 div.sk-parallel {\n",
              "  display: flex;\n",
              "  align-items: stretch;\n",
              "  justify-content: center;\n",
              "  background-color: var(--sklearn-color-background);\n",
              "  position: relative;\n",
              "}\n",
              "\n",
              "#sk-container-id-7 div.sk-parallel-item {\n",
              "  display: flex;\n",
              "  flex-direction: column;\n",
              "}\n",
              "\n",
              "#sk-container-id-7 div.sk-parallel-item:first-child::after {\n",
              "  align-self: flex-end;\n",
              "  width: 50%;\n",
              "}\n",
              "\n",
              "#sk-container-id-7 div.sk-parallel-item:last-child::after {\n",
              "  align-self: flex-start;\n",
              "  width: 50%;\n",
              "}\n",
              "\n",
              "#sk-container-id-7 div.sk-parallel-item:only-child::after {\n",
              "  width: 0;\n",
              "}\n",
              "\n",
              "/* Serial-specific style estimator block */\n",
              "\n",
              "#sk-container-id-7 div.sk-serial {\n",
              "  display: flex;\n",
              "  flex-direction: column;\n",
              "  align-items: center;\n",
              "  background-color: var(--sklearn-color-background);\n",
              "  padding-right: 1em;\n",
              "  padding-left: 1em;\n",
              "}\n",
              "\n",
              "\n",
              "/* Toggleable style: style used for estimator/Pipeline/ColumnTransformer box that is\n",
              "clickable and can be expanded/collapsed.\n",
              "- Pipeline and ColumnTransformer use this feature and define the default style\n",
              "- Estimators will overwrite some part of the style using the `sk-estimator` class\n",
              "*/\n",
              "\n",
              "/* Pipeline and ColumnTransformer style (default) */\n",
              "\n",
              "#sk-container-id-7 div.sk-toggleable {\n",
              "  /* Default theme specific background. It is overwritten whether we have a\n",
              "  specific estimator or a Pipeline/ColumnTransformer */\n",
              "  background-color: var(--sklearn-color-background);\n",
              "}\n",
              "\n",
              "/* Toggleable label */\n",
              "#sk-container-id-7 label.sk-toggleable__label {\n",
              "  cursor: pointer;\n",
              "  display: flex;\n",
              "  width: 100%;\n",
              "  margin-bottom: 0;\n",
              "  padding: 0.5em;\n",
              "  box-sizing: border-box;\n",
              "  text-align: center;\n",
              "  align-items: start;\n",
              "  justify-content: space-between;\n",
              "  gap: 0.5em;\n",
              "}\n",
              "\n",
              "#sk-container-id-7 label.sk-toggleable__label .caption {\n",
              "  font-size: 0.6rem;\n",
              "  font-weight: lighter;\n",
              "  color: var(--sklearn-color-text-muted);\n",
              "}\n",
              "\n",
              "#sk-container-id-7 label.sk-toggleable__label-arrow:before {\n",
              "  /* Arrow on the left of the label */\n",
              "  content: \"▸\";\n",
              "  float: left;\n",
              "  margin-right: 0.25em;\n",
              "  color: var(--sklearn-color-icon);\n",
              "}\n",
              "\n",
              "#sk-container-id-7 label.sk-toggleable__label-arrow:hover:before {\n",
              "  color: var(--sklearn-color-text);\n",
              "}\n",
              "\n",
              "/* Toggleable content - dropdown */\n",
              "\n",
              "#sk-container-id-7 div.sk-toggleable__content {\n",
              "  max-height: 0;\n",
              "  max-width: 0;\n",
              "  overflow: hidden;\n",
              "  text-align: left;\n",
              "  /* unfitted */\n",
              "  background-color: var(--sklearn-color-unfitted-level-0);\n",
              "}\n",
              "\n",
              "#sk-container-id-7 div.sk-toggleable__content.fitted {\n",
              "  /* fitted */\n",
              "  background-color: var(--sklearn-color-fitted-level-0);\n",
              "}\n",
              "\n",
              "#sk-container-id-7 div.sk-toggleable__content pre {\n",
              "  margin: 0.2em;\n",
              "  border-radius: 0.25em;\n",
              "  color: var(--sklearn-color-text);\n",
              "  /* unfitted */\n",
              "  background-color: var(--sklearn-color-unfitted-level-0);\n",
              "}\n",
              "\n",
              "#sk-container-id-7 div.sk-toggleable__content.fitted pre {\n",
              "  /* unfitted */\n",
              "  background-color: var(--sklearn-color-fitted-level-0);\n",
              "}\n",
              "\n",
              "#sk-container-id-7 input.sk-toggleable__control:checked~div.sk-toggleable__content {\n",
              "  /* Expand drop-down */\n",
              "  max-height: 200px;\n",
              "  max-width: 100%;\n",
              "  overflow: auto;\n",
              "}\n",
              "\n",
              "#sk-container-id-7 input.sk-toggleable__control:checked~label.sk-toggleable__label-arrow:before {\n",
              "  content: \"▾\";\n",
              "}\n",
              "\n",
              "/* Pipeline/ColumnTransformer-specific style */\n",
              "\n",
              "#sk-container-id-7 div.sk-label input.sk-toggleable__control:checked~label.sk-toggleable__label {\n",
              "  color: var(--sklearn-color-text);\n",
              "  background-color: var(--sklearn-color-unfitted-level-2);\n",
              "}\n",
              "\n",
              "#sk-container-id-7 div.sk-label.fitted input.sk-toggleable__control:checked~label.sk-toggleable__label {\n",
              "  background-color: var(--sklearn-color-fitted-level-2);\n",
              "}\n",
              "\n",
              "/* Estimator-specific style */\n",
              "\n",
              "/* Colorize estimator box */\n",
              "#sk-container-id-7 div.sk-estimator input.sk-toggleable__control:checked~label.sk-toggleable__label {\n",
              "  /* unfitted */\n",
              "  background-color: var(--sklearn-color-unfitted-level-2);\n",
              "}\n",
              "\n",
              "#sk-container-id-7 div.sk-estimator.fitted input.sk-toggleable__control:checked~label.sk-toggleable__label {\n",
              "  /* fitted */\n",
              "  background-color: var(--sklearn-color-fitted-level-2);\n",
              "}\n",
              "\n",
              "#sk-container-id-7 div.sk-label label.sk-toggleable__label,\n",
              "#sk-container-id-7 div.sk-label label {\n",
              "  /* The background is the default theme color */\n",
              "  color: var(--sklearn-color-text-on-default-background);\n",
              "}\n",
              "\n",
              "/* On hover, darken the color of the background */\n",
              "#sk-container-id-7 div.sk-label:hover label.sk-toggleable__label {\n",
              "  color: var(--sklearn-color-text);\n",
              "  background-color: var(--sklearn-color-unfitted-level-2);\n",
              "}\n",
              "\n",
              "/* Label box, darken color on hover, fitted */\n",
              "#sk-container-id-7 div.sk-label.fitted:hover label.sk-toggleable__label.fitted {\n",
              "  color: var(--sklearn-color-text);\n",
              "  background-color: var(--sklearn-color-fitted-level-2);\n",
              "}\n",
              "\n",
              "/* Estimator label */\n",
              "\n",
              "#sk-container-id-7 div.sk-label label {\n",
              "  font-family: monospace;\n",
              "  font-weight: bold;\n",
              "  display: inline-block;\n",
              "  line-height: 1.2em;\n",
              "}\n",
              "\n",
              "#sk-container-id-7 div.sk-label-container {\n",
              "  text-align: center;\n",
              "}\n",
              "\n",
              "/* Estimator-specific */\n",
              "#sk-container-id-7 div.sk-estimator {\n",
              "  font-family: monospace;\n",
              "  border: 1px dotted var(--sklearn-color-border-box);\n",
              "  border-radius: 0.25em;\n",
              "  box-sizing: border-box;\n",
              "  margin-bottom: 0.5em;\n",
              "  /* unfitted */\n",
              "  background-color: var(--sklearn-color-unfitted-level-0);\n",
              "}\n",
              "\n",
              "#sk-container-id-7 div.sk-estimator.fitted {\n",
              "  /* fitted */\n",
              "  background-color: var(--sklearn-color-fitted-level-0);\n",
              "}\n",
              "\n",
              "/* on hover */\n",
              "#sk-container-id-7 div.sk-estimator:hover {\n",
              "  /* unfitted */\n",
              "  background-color: var(--sklearn-color-unfitted-level-2);\n",
              "}\n",
              "\n",
              "#sk-container-id-7 div.sk-estimator.fitted:hover {\n",
              "  /* fitted */\n",
              "  background-color: var(--sklearn-color-fitted-level-2);\n",
              "}\n",
              "\n",
              "/* Specification for estimator info (e.g. \"i\" and \"?\") */\n",
              "\n",
              "/* Common style for \"i\" and \"?\" */\n",
              "\n",
              ".sk-estimator-doc-link,\n",
              "a:link.sk-estimator-doc-link,\n",
              "a:visited.sk-estimator-doc-link {\n",
              "  float: right;\n",
              "  font-size: smaller;\n",
              "  line-height: 1em;\n",
              "  font-family: monospace;\n",
              "  background-color: var(--sklearn-color-background);\n",
              "  border-radius: 1em;\n",
              "  height: 1em;\n",
              "  width: 1em;\n",
              "  text-decoration: none !important;\n",
              "  margin-left: 0.5em;\n",
              "  text-align: center;\n",
              "  /* unfitted */\n",
              "  border: var(--sklearn-color-unfitted-level-1) 1pt solid;\n",
              "  color: var(--sklearn-color-unfitted-level-1);\n",
              "}\n",
              "\n",
              ".sk-estimator-doc-link.fitted,\n",
              "a:link.sk-estimator-doc-link.fitted,\n",
              "a:visited.sk-estimator-doc-link.fitted {\n",
              "  /* fitted */\n",
              "  border: var(--sklearn-color-fitted-level-1) 1pt solid;\n",
              "  color: var(--sklearn-color-fitted-level-1);\n",
              "}\n",
              "\n",
              "/* On hover */\n",
              "div.sk-estimator:hover .sk-estimator-doc-link:hover,\n",
              ".sk-estimator-doc-link:hover,\n",
              "div.sk-label-container:hover .sk-estimator-doc-link:hover,\n",
              ".sk-estimator-doc-link:hover {\n",
              "  /* unfitted */\n",
              "  background-color: var(--sklearn-color-unfitted-level-3);\n",
              "  color: var(--sklearn-color-background);\n",
              "  text-decoration: none;\n",
              "}\n",
              "\n",
              "div.sk-estimator.fitted:hover .sk-estimator-doc-link.fitted:hover,\n",
              ".sk-estimator-doc-link.fitted:hover,\n",
              "div.sk-label-container:hover .sk-estimator-doc-link.fitted:hover,\n",
              ".sk-estimator-doc-link.fitted:hover {\n",
              "  /* fitted */\n",
              "  background-color: var(--sklearn-color-fitted-level-3);\n",
              "  color: var(--sklearn-color-background);\n",
              "  text-decoration: none;\n",
              "}\n",
              "\n",
              "/* Span, style for the box shown on hovering the info icon */\n",
              ".sk-estimator-doc-link span {\n",
              "  display: none;\n",
              "  z-index: 9999;\n",
              "  position: relative;\n",
              "  font-weight: normal;\n",
              "  right: .2ex;\n",
              "  padding: .5ex;\n",
              "  margin: .5ex;\n",
              "  width: min-content;\n",
              "  min-width: 20ex;\n",
              "  max-width: 50ex;\n",
              "  color: var(--sklearn-color-text);\n",
              "  box-shadow: 2pt 2pt 4pt #999;\n",
              "  /* unfitted */\n",
              "  background: var(--sklearn-color-unfitted-level-0);\n",
              "  border: .5pt solid var(--sklearn-color-unfitted-level-3);\n",
              "}\n",
              "\n",
              ".sk-estimator-doc-link.fitted span {\n",
              "  /* fitted */\n",
              "  background: var(--sklearn-color-fitted-level-0);\n",
              "  border: var(--sklearn-color-fitted-level-3);\n",
              "}\n",
              "\n",
              ".sk-estimator-doc-link:hover span {\n",
              "  display: block;\n",
              "}\n",
              "\n",
              "/* \"?\"-specific style due to the `<a>` HTML tag */\n",
              "\n",
              "#sk-container-id-7 a.estimator_doc_link {\n",
              "  float: right;\n",
              "  font-size: 1rem;\n",
              "  line-height: 1em;\n",
              "  font-family: monospace;\n",
              "  background-color: var(--sklearn-color-background);\n",
              "  border-radius: 1rem;\n",
              "  height: 1rem;\n",
              "  width: 1rem;\n",
              "  text-decoration: none;\n",
              "  /* unfitted */\n",
              "  color: var(--sklearn-color-unfitted-level-1);\n",
              "  border: var(--sklearn-color-unfitted-level-1) 1pt solid;\n",
              "}\n",
              "\n",
              "#sk-container-id-7 a.estimator_doc_link.fitted {\n",
              "  /* fitted */\n",
              "  border: var(--sklearn-color-fitted-level-1) 1pt solid;\n",
              "  color: var(--sklearn-color-fitted-level-1);\n",
              "}\n",
              "\n",
              "/* On hover */\n",
              "#sk-container-id-7 a.estimator_doc_link:hover {\n",
              "  /* unfitted */\n",
              "  background-color: var(--sklearn-color-unfitted-level-3);\n",
              "  color: var(--sklearn-color-background);\n",
              "  text-decoration: none;\n",
              "}\n",
              "\n",
              "#sk-container-id-7 a.estimator_doc_link.fitted:hover {\n",
              "  /* fitted */\n",
              "  background-color: var(--sklearn-color-fitted-level-3);\n",
              "}\n",
              "</style><div id=\"sk-container-id-7\" class=\"sk-top-container\"><div class=\"sk-text-repr-fallback\"><pre>LogisticRegression(max_iter=10000)</pre><b>In a Jupyter environment, please rerun this cell to show the HTML representation or trust the notebook. <br />On GitHub, the HTML representation is unable to render, please try loading this page with nbviewer.org.</b></div><div class=\"sk-container\" hidden><div class=\"sk-item\"><div class=\"sk-estimator fitted sk-toggleable\"><input class=\"sk-toggleable__control sk-hidden--visually\" id=\"sk-estimator-id-7\" type=\"checkbox\" checked><label for=\"sk-estimator-id-7\" class=\"sk-toggleable__label fitted sk-toggleable__label-arrow\"><div><div>LogisticRegression</div></div><div><a class=\"sk-estimator-doc-link fitted\" rel=\"noreferrer\" target=\"_blank\" href=\"https://scikit-learn.org/1.6/modules/generated/sklearn.linear_model.LogisticRegression.html\">?<span>Documentation for LogisticRegression</span></a><span class=\"sk-estimator-doc-link fitted\">i<span>Fitted</span></span></div></label><div class=\"sk-toggleable__content fitted\"><pre>LogisticRegression(max_iter=10000)</pre></div> </div></div></div></div>"
            ]
          },
          "metadata": {},
          "execution_count": 82
        }
      ]
    },
    {
      "cell_type": "markdown",
      "source": [
        "И последнее - это постобработка. Тут мне пришлось вспомнить много \"хороших\" слов, которые я знаю)) По сути, недостающая точность уже добиралась здесь. Не знаю, хорошо это или плохо, но как факт. Но я думаю, что это всё равно полезный этап в итоговой разметке."
      ],
      "metadata": {
        "id": "49bQBu36wCUB"
      }
    },
    {
      "cell_type": "code",
      "source": [
        "# Список запрещённых слов\n",
        "forbidden_words = ['porn', 'порн', 'секс', 'adult', 'эротик', 'порнографический', 'ебля',\n",
        "                   'ёбля', 'porno', 'минет', 'пизд', 'пёзд', 'ебать', 'лесбийский',\n",
        "                   'хуй', 'кремпай', 'кремпа', 'кримпа', 'кримпай', 'порно', 'пизда', 'sex',\n",
        "                   'сиська', 'жопа', 'blowjob', 'tits', 'milf', 'milfa', 'милфа', 'трахать', 'boob',\n",
        "                   'куни', 'кунилингус', 'fuck', 'fucking']\n",
        "\n",
        "# Дополнительные подстроки для поиска\n",
        "additional_forbidden_substrings = ['xxx', 'sex', 'porn']\n",
        "\n",
        "def postprocess_predictions(texts, preds):\n",
        "    for i, text in enumerate(texts):\n",
        "        if any(forbidden_word in text.lower() for forbidden_word in forbidden_words):\n",
        "            preds[i] = 1\n",
        "        elif any(substring in token.lower() for token in text.split() for substring in additional_forbidden_substrings):\n",
        "            preds[i] = 1\n",
        "    return preds"
      ],
      "metadata": {
        "id": "it_YUG1DG4YB"
      },
      "execution_count": null,
      "outputs": []
    },
    {
      "cell_type": "code",
      "source": [
        "preds = model.predict(X_test_final)\n",
        "preds = postprocess_predictions(test['text_clean'], preds)"
      ],
      "metadata": {
        "id": "H87XD21jiRR-"
      },
      "execution_count": null,
      "outputs": []
    },
    {
      "cell_type": "code",
      "source": [
        "submission = pd.DataFrame({\n",
        "    'ID': test['ID'],\n",
        "    'label': preds\n",
        "})\n",
        "submission.to_csv('submission.csv', index=False)"
      ],
      "metadata": {
        "id": "lPPBFcZzG3h4"
      },
      "execution_count": null,
      "outputs": []
    },
    {
      "cell_type": "markdown",
      "source": [
        "Как итог, хотелось бы сказать, чего получилось достичь, а чего не совсем. Главной целью было преодолеть скор в 0.97, и с этой задачей я успешно справился. Не получилось же забраться в 0.98)) Я думаю, что можно было бы использовать ещё такие признаки, как домен, потому что я заметил, что у сайтов 18+ зачастую домен 1-го уровня это .org, .net или .com. И вообще у них обычно странные названия, за которые точно можно было зацепиться. Наверное, ещё можно было бы поиграться с разными настройками TF-IDF или мешка слов."
      ],
      "metadata": {
        "id": "TL9P1M4Ww8tI"
      }
    }
  ]
}